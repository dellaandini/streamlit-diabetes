{
 "cells": [
  {
   "cell_type": "code",
   "execution_count": 23,
   "metadata": {},
   "outputs": [],
   "source": [
    "import numpy as np\n",
    "import pandas as pd\n",
    "import seaborn as sns\n",
    "import matplotlib.pyplot as plt\n",
    "from sklearn.model_selection import train_test_split\n",
    "from imblearn.over_sampling import SMOTE\n",
    "from sklearn.preprocessing import StandardScaler\n",
    "from sklearn.svm import SVC\n",
    "from sklearn.model_selection import GridSearchCV\n",
    "from sklearn.metrics import classification_report\n"
   ]
  },
  {
   "cell_type": "markdown",
   "metadata": {},
   "source": [
    " LOAD DATASET"
   ]
  },
  {
   "cell_type": "code",
   "execution_count": 25,
   "metadata": {},
   "outputs": [
    {
     "name": "stdout",
     "output_type": "stream",
     "text": [
      "   Pregnancies  Glucose  BloodPressure  SkinThickness  Insulin   BMI  \\\n",
      "0            6      148             72             35        0  33.6   \n",
      "1            1       85             66             29        0  26.6   \n",
      "2            8      183             64              0        0  23.3   \n",
      "3            1       89             66             23       94  28.1   \n",
      "4            0      137             40             35      168  43.1   \n",
      "\n",
      "   DiabetesPedigreeFunction  Age  Outcome  \n",
      "0                     0.627   50        1  \n",
      "1                     0.351   31        0  \n",
      "2                     0.672   32        1  \n",
      "3                     0.167   21        0  \n",
      "4                     2.288   33        1  \n",
      "Dataset shape: (768, 9)\n",
      "Jumlah duplikat: 0\n",
      "Missing values per kolom:\n",
      " Pregnancies                 0\n",
      "Glucose                     0\n",
      "BloodPressure               0\n",
      "SkinThickness               0\n",
      "Insulin                     0\n",
      "BMI                         0\n",
      "DiabetesPedigreeFunction    0\n",
      "Age                         0\n",
      "Outcome                     0\n",
      "dtype: int64\n"
     ]
    }
   ],
   "source": [
    "# Load dataset\n",
    "df = pd.read_csv('diabetes.csv')\n",
    "\n",
    "# Copy dataset untuk pemrosesan\n",
    "dataset = df.copy()\n",
    "\n",
    "# Lihat beberapa data pertama\n",
    "print(dataset.head())\n",
    "\n",
    "# Ukuran dataset\n",
    "print(\"Dataset shape:\", dataset.shape)\n",
    "\n",
    "# Periksa jumlah data duplikat\n",
    "print(\"Jumlah duplikat:\", dataset.duplicated().sum())\n",
    "\n",
    "# Periksa missing values\n",
    "print(\"Missing values per kolom:\\n\", dataset.isnull().sum())\n"
   ]
  },
  {
   "cell_type": "code",
   "execution_count": 8,
   "metadata": {},
   "outputs": [
    {
     "name": "stdout",
     "output_type": "stream",
     "text": [
      "Dataset setelah menghapus outlier: (688, 9)\n"
     ]
    }
   ],
   "source": [
    "from scipy import stats\n",
    "\n",
    "kolom_numerik = ['Pregnancies', 'Glucose', 'BloodPressure', 'SkinThickness',\n",
    "                 'Insulin', 'BMI', 'DiabetesPedigreeFunction', 'Age']\n",
    "\n",
    "# Menghapus outliers berdasarkan Z-Score (>3)\n",
    "dataset = dataset[(np.abs(stats.zscore(dataset[kolom_numerik])) < 3).all(axis=1)]\n",
    "\n",
    "# Cek ukuran dataset setelah menghapus outlier\n",
    "print(\"Dataset setelah menghapus outlier:\", dataset.shape)\n"
   ]
  },
  {
   "cell_type": "code",
   "execution_count": 26,
   "metadata": {},
   "outputs": [
    {
     "name": "stdout",
     "output_type": "stream",
     "text": [
      "Distribusi sebelum SMOTE:\n",
      " Outcome\n",
      "0    500\n",
      "1    268\n",
      "Name: count, dtype: int64\n"
     ]
    }
   ],
   "source": [
    "X = dataset.drop(columns=[\"Outcome\"])  # Semua kolom kecuali target\n",
    "y = dataset[\"Outcome\"]  # Kolom target\n",
    "\n",
    "# Cek distribusi kelas sebelum SMOTE\n",
    "print(\"Distribusi sebelum SMOTE:\\n\", y.value_counts())\n"
   ]
  },
  {
   "cell_type": "code",
   "execution_count": 10,
   "metadata": {},
   "outputs": [
    {
     "name": "stdout",
     "output_type": "stream",
     "text": [
      "Distribusi setelah SMOTE:\n",
      " Outcome\n",
      "1    461\n",
      "0    461\n",
      "Name: count, dtype: int64\n"
     ]
    },
    {
     "data": {
      "image/png": "[encoded data removed]",
      "text/plain": [
       "<Figure size 1200x500 with 2 Axes>"
      ]
     },
     "metadata": {},
     "output_type": "display_data"
    }
   ],
   "source": [
    "smote = SMOTE(random_state=42)\n",
    "X_resampled, y_resampled = smote.fit_resample(X, y)\n",
    "\n",
    "# Cek distribusi kelas setelah SMOTE\n",
    "print(\"Distribusi setelah SMOTE:\\n\", y_resampled.value_counts())\n",
    "\n",
    "# Visualisasi distribusi kelas\n",
    "fig, ax = plt.subplots(1, 2, figsize=(12, 5))\n",
    "sns.countplot(x=y, ax=ax[0])\n",
    "ax[0].set_title(\"Distribusi Sebelum SMOTE\")\n",
    "sns.countplot(x=y_resampled, ax=ax[1])\n",
    "ax[1].set_title(\"Distribusi Setelah SMOTE\")\n",
    "plt.show()\n"
   ]
  },
  {
   "cell_type": "code",
   "execution_count": 11,
   "metadata": {},
   "outputs": [
    {
     "name": "stdout",
     "output_type": "stream",
     "text": [
      "Train set size : (645, 8) (645,)\n",
      "Test set size  : (277, 8) (277,)\n"
     ]
    }
   ],
   "source": [
    "X_train, X_test, y_train, y_test = train_test_split(X_resampled, y_resampled,\n",
    "                                                    test_size=0.3,\n",
    "                                                    random_state=42,\n",
    "                                                    stratify=y_resampled)\n",
    "\n",
    "print('Train set size :', X_train.shape, y_train.shape)\n",
    "print('Test set size  :', X_test.shape, y_test.shape)\n"
   ]
  },
  {
   "cell_type": "code",
   "execution_count": 12,
   "metadata": {},
   "outputs": [],
   "source": [
    "scaler = StandardScaler()\n",
    "scaler.fit(X_train)\n",
    "\n",
    "X_train_scaled = scaler.transform(X_train)\n",
    "X_test_scaled = scaler.transform(X_test)\n"
   ]
  },
  {
   "cell_type": "code",
   "execution_count": 13,
   "metadata": {},
   "outputs": [],
   "source": [
    "scaler = StandardScaler()\n",
    "scaler.fit(X_train)\n",
    "\n",
    "X_train_scaled = scaler.transform(X_train)\n",
    "X_test_scaled = scaler.transform(X_test)\n"
   ]
  },
  {
   "cell_type": "code",
   "execution_count": 14,
   "metadata": {},
   "outputs": [
    {
     "name": "stdout",
     "output_type": "stream",
     "text": [
      "Setting model SVM terbaik: {'C': 10, 'gamma': 0.1, 'kernel': 'rbf'}\n"
     ]
    }
   ],
   "source": [
    "hyperparameters = {\n",
    "    'C': [0.1, 1, 10, 100, 1000],\n",
    "    'kernel': ['rbf', 'sigmoid'],\n",
    "    'gamma': [1, 0.1, 0.01, 0.001, 0.0001]\n",
    "}\n",
    "\n",
    "model_svm = GridSearchCV(SVC(), hyperparameters, cv=8, refit=True)\n",
    "model_svm.fit(X_train_scaled, y_train)\n",
    "\n",
    "print('Setting model SVM terbaik:', model_svm.best_params_)\n"
   ]
  },
  {
   "cell_type": "code",
   "execution_count": 15,
   "metadata": {},
   "outputs": [
    {
     "name": "stdout",
     "output_type": "stream",
     "text": [
      "              precision    recall  f1-score   support\n",
      "\n",
      "           0       0.82      0.79      0.81       139\n",
      "           1       0.80      0.83      0.81       138\n",
      "\n",
      "    accuracy                           0.81       277\n",
      "   macro avg       0.81      0.81      0.81       277\n",
      "weighted avg       0.81      0.81      0.81       277\n",
      "\n"
     ]
    }
   ],
   "source": [
    "y_pred = model_svm.predict(X_test_scaled)\n",
    "print(classification_report(y_test, y_pred))\n"
   ]
  },
  {
   "cell_type": "code",
   "execution_count": 16,
   "metadata": {},
   "outputs": [
    {
     "name": "stdout",
     "output_type": "stream",
     "text": [
      "              precision    recall  f1-score   support\n",
      "\n",
      "           0       0.82      0.79      0.81       139\n",
      "           1       0.80      0.83      0.81       138\n",
      "\n",
      "    accuracy                           0.81       277\n",
      "   macro avg       0.81      0.81      0.81       277\n",
      "weighted avg       0.81      0.81      0.81       277\n",
      "\n"
     ]
    }
   ],
   "source": [
    "y_pred = model_svm.predict(X_test_scaled)\n",
    "print(classification_report(y_test, y_pred))\n"
   ]
  },
  {
   "cell_type": "code",
   "execution_count": 17,
   "metadata": {},
   "outputs": [
    {
     "name": "stdout",
     "output_type": "stream",
     "text": [
      "Pasien terkena diabetes\n"
     ]
    },
    {
     "name": "stderr",
     "output_type": "stream",
     "text": [
      "C:\\Users\\Acer\\AppData\\Roaming\\Python\\Python313\\site-packages\\sklearn\\utils\\validation.py:2739: UserWarning: X does not have valid feature names, but StandardScaler was fitted with feature names\n",
      "  warnings.warn(\n"
     ]
    }
   ],
   "source": [
    "# Data input contoh (harus sesuai jumlah fitur yang dilatih)\n",
    "input_data = (6,148,72,35,0,33.6,0.627,50)\n",
    "\n",
    "# Konversi ke numpy array\n",
    "input_data_as_numpy_array = np.array(input_data)\n",
    "\n",
    "# Reshape data agar sesuai dengan input model\n",
    "input_data_reshape = input_data_as_numpy_array.reshape(1, -1)\n",
    "\n",
    "# Standardisasi input data\n",
    "std_data = scaler.transform(input_data_reshape)\n",
    "\n",
    "# Prediksi menggunakan model SVM\n",
    "prediction = model_svm.predict(std_data)\n",
    "\n",
    "# Output hasil prediksi\n",
    "if prediction[0] == 1:\n",
    "    print('Pasien terkena diabetes')\n",
    "else:\n",
    "    print('Pasien tidak terkena diabetes')\n"
   ]
  },
  {
   "cell_type": "markdown",
   "metadata": {},
   "source": [
    "SIMPAN MODEL"
   ]
  },
  {
   "cell_type": "code",
   "execution_count": 19,
   "metadata": {},
   "outputs": [
    {
     "name": "stdout",
     "output_type": "stream",
     "text": [
      "Model dan Scaler berhasil disimpan!\n"
     ]
    }
   ],
   "source": [
    "import joblib\n",
    "joblib.dump(model_svm, \"diabetes_model.pkl\")\n",
    "joblib.dump(scaler, \"scaler.pkl\")\n",
    "\n",
    "print(\"Model dan Scaler berhasil disimpan!\")\n"
   ]
  }
 ],
 "metadata": {
  "kernelspec": {
   "display_name": "Python 3",
   "language": "python",
   "name": "python3"
  },
  "language_info": {
   "codemirror_mode": {
    "name": "ipython",
    "version": 3
   },
   "file_extension": ".py",
   "mimetype": "text/x-python",
   "name": "python",
   "nbconvert_exporter": "python",
   "pygments_lexer": "ipython3",
   "version": "3.13.2"
  }
 },
 "nbformat": 4,
 "nbformat_minor": 2
}
